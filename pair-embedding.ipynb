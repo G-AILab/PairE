{
 "cells": [
  {
   "cell_type": "code",
   "execution_count": 19,
   "metadata": {
    "ExecuteTime": {
     "end_time": "2020-06-10T07:52:24.998140Z",
     "start_time": "2020-06-10T07:52:24.988045Z"
    }
   },
   "outputs": [],
   "source": [
    "from sklearn.model_selection import train_test_split\n",
    "from thundersvm import SVC, NuSVC\n",
    "from sklearn.linear_model import LogisticRegression\n",
    "from sklearn.model_selection import cross_validate, cross_val_predict, StratifiedKFold\n",
    "import bhtsne\n",
    "from scipy.spatial.distance import pdist\n",
    "from itertools import *\n",
    "from joblib import Parallel, delayed\n",
    "import matplotlib.pyplot as plt\n",
    "from sklearn.manifold import TSNE\n",
    "from IPython.display import display\n",
    "from scipy import sparse as sp\n",
    "import scipy\n",
    "from sklearn.metrics import *\n",
    "from sklearn.preprocessing import *\n",
    "from tqdm import tqdm, tqdm_pandas, tqdm_notebook, tqdm_gui\n",
    "import os\n",
    "import time\n",
    "import random\n",
    "import math\n",
    "import igraph as ig\n",
    "import networkx as nx\n",
    "import pandas as pd\n",
    "import numpy as np\n",
    "import warnings\n",
    "warnings.filterwarnings(\"ignore\")\n",
    "\n",
    "\n",
    "%matplotlib inline"
   ]
  },
  {
   "cell_type": "code",
   "execution_count": 20,
   "metadata": {
    "ExecuteTime": {
     "end_time": "2020-06-10T07:52:25.327035Z",
     "start_time": "2020-06-10T07:52:25.304053Z"
    }
   },
   "outputs": [],
   "source": [
    "def NX_to_IG(G, directed=False):\n",
    "    return ig.Graph(len(G),\n",
    "                    list(zip(*list(zip(*nx.to_edgelist(G)))[:2])),\n",
    "                    directed=directed)\n",
    "\n",
    "\n",
    "def to_frame(x):\n",
    "    test = pd.DataFrame(\n",
    "        x, columns=['Emb_{}'.format(i) for i in range(x.shape[1])])\n",
    "    test['nodes'] = G.nodes()\n",
    "    return test\n",
    "\n",
    "\n",
    "from sklearn.manifold import TSNE\n",
    "\n",
    "\n",
    "def plot_embedding(emb, label, name):\n",
    "\n",
    "    embeddings = emb[[\n",
    "        fea for fea in emb.columns if fea not in ['label', 'nodes']\n",
    "    ]].values\n",
    "    X, Y = label['nodes'].values, label['label'].values\n",
    "    fig = plt.figure(figsize=(8, 5))\n",
    "    plt.title('{} DataSet'.format(name))\n",
    "\n",
    "    emb_list = []\n",
    "\n",
    "    for k in X:\n",
    "        emb_list.append(embeddings[k])\n",
    "\n",
    "    emb_list = np.array(emb_list)\n",
    "    node_pos = bhtsne.tsne(embeddings.astype(np.float64))\n",
    "    color_idx = {}\n",
    "    for i in range(len(X)):\n",
    "        color_idx.setdefault(Y[i][0], [])\n",
    "        color_idx[Y[i][0]].append(i)\n",
    "\n",
    "    alpha = 0.6\n",
    "    for c, idx in color_idx.items():\n",
    "        plt.scatter(\n",
    "            node_pos[idx, 0],\n",
    "            node_pos[idx, 1],\n",
    "            label=c,\n",
    "            cmap='jet',\n",
    "            alpha=alpha,\n",
    "            marker='o',\n",
    "            edgecolor='black',\n",
    "            linewidths=1,\n",
    "        )\n",
    "\n",
    "    plt.legend()\n",
    "    plt.show()\n",
    "\n",
    "\n",
    "def get_cv_score(emb, G, G_label, clf, name):\n",
    "    ratios = [0.1, 0.3, 0.5, 0.7, 0.9]\n",
    "    tot = 0\n",
    "    for i in clf:  # svc_linear,svc_rbf,\n",
    "        k, k1 = [], []\n",
    "        print(i)\n",
    "        for test_size in tqdm_notebook(ratios):\n",
    "            train, test, train_label, test_label = train_test_split(\n",
    "                emb,\n",
    "                G_label['label'].map(lambda x: x[0]).values,\n",
    "                test_size=1 - test_size)\n",
    "            try:\n",
    "                scores_clf = cross_validate(i,\n",
    "                                            train,\n",
    "                                            train_label,\n",
    "                                            cv=10,\n",
    "                                            scoring=['f1_micro', 'f1_macro'],\n",
    "                                            n_jobs=-1,\n",
    "                                            verbose=0)\n",
    "            except:\n",
    "                scores_clf = cross_validate(i,\n",
    "                                            train,\n",
    "                                            train_label,\n",
    "                                            cv=10,\n",
    "                                            scoring=['f1_micro', 'f1_macro'],\n",
    "                                            n_jobs=1,\n",
    "                                            verbose=0)\n",
    "            micro = \"%0.4f±%0.4f\" % (scores_clf['test_f1_micro'].mean(),\n",
    "                                     scores_clf['test_f1_micro'].std() * 2)\n",
    "            macro = \"%0.4f±%0.4f\" % (scores_clf['test_f1_macro'].mean(),\n",
    "                                     scores_clf['test_f1_macro'].std() * 2)\n",
    "            k.append([micro, macro])\n",
    "            i.fit(train.astype(np.float32), train_label.astype(np.float32))\n",
    "            k1.append([\n",
    "                f1_score(test_label, i.predict(test.astype(np.float32)), average='micro'),\n",
    "                f1_score(test_label, i.predict(test.astype(np.float32)), average='macro')\n",
    "            ])\n",
    "\n",
    "        tr = pd.DataFrame(k).T\n",
    "        tr.columns = ['ratio {}'.format(i) for i in ratios]\n",
    "        tr.index = ['train-micro', 'train-macro']\n",
    "\n",
    "        display(tr)\n",
    "\n",
    "    return tr\n",
    "\n",
    "\n",
    "def read_data(name):\n",
    "    G = nx.read_adjlist(\"./input/{}/{}_adjlist.txt\".format(name, name),\n",
    "                        delimiter=' ',\n",
    "                        nodetype=int,\n",
    "                        create_using=nx.DiGraph())\n",
    "    G.add_edges_from([i[::-1] for i in list(G.edges())])  # 显式的加入双向边\n",
    "    G_label = pd.read_pickle(\"./input/{}/{}_label.pickle\".format(name, name))\n",
    "    G_attr = pd.read_pickle(\"./input/{}/{}_attr.pickle\".format(name, name))\n",
    "    G_label['label'] = G_label['label'].map(lambda x: [x])\n",
    "\n",
    "    iG = NX_to_IG(G, False)\n",
    "    for i in tqdm_notebook(range(iG.vcount())):\n",
    "        G.add_edge(i, i)\n",
    "\n",
    "    print(\"{} Have {} Nodes, {} Edges, {} Attribute, {} Classes\".format(\n",
    "        name, iG.vcount(), iG.ecount(), G_attr.shape[1] - 1,\n",
    "        G_label['label'].astype('str').nunique()))\n",
    "\n",
    "    return iG, G, G_label, G_attr"
   ]
  },
  {
   "cell_type": "code",
   "execution_count": 21,
   "metadata": {
    "ExecuteTime": {
     "end_time": "2020-06-10T07:52:26.119142Z",
     "start_time": "2020-06-10T07:52:26.081519Z"
    }
   },
   "outputs": [],
   "source": [
    "import tensorflow as tf\n",
    "from keras.layers import *\n",
    "from keras.losses import *\n",
    "from keras.optimizers import *\n",
    "from keras.models import *\n",
    "from keras.callbacks import *\n",
    "from keras.initializers import he_uniform, glorot_uniform, lecun_uniform\n",
    "from keras.utils import to_categorical\n",
    "from keras import backend as K\n",
    "from keras import *\n",
    "from keras.activations import *\n",
    "from keras.utils import plot_model, multi_gpu_model, model_to_dot\n",
    "from IPython.display import SVG\n",
    "from keras_tqdm import TQDMNotebookCallback, TQDMCallback\n",
    "\n",
    "\n",
    "class PairEmbedding(object):\n",
    "    def __init__(self,\n",
    "                 G,\n",
    "                 attribute,\n",
    "                 G_label,\n",
    "                 embedding_size,\n",
    "                 epochs,\n",
    "                 silent=False):\n",
    "        super(PairEmbedding, self).__init__() \n",
    "        self.G = G\n",
    "        self.G_label = G_label\n",
    "        self.embedding_size = embedding_size\n",
    "        self.epochs = epochs\n",
    "        self.silent = silent\n",
    "\n",
    "        W = attribute.drop('nodes', axis=1).fillna(0).values\n",
    "        attribute = W / np.linalg.norm(W, axis=1, keepdims=True)\n",
    "        self.attribute = pd.DataFrame(\n",
    "            attribute,\n",
    "            columns=[\n",
    "                \"attribute_{}\".format(i) for i in range(attribute.shape[1])\n",
    "            ]).fillna(0)\n",
    "        self.nodes_embedding = pd.DataFrame(\n",
    "            np.random.rand(len(self.G.nodes()), self.embedding_size),\n",
    "            columns=[\"embedding_{}\".format(i) for i in range(embedding_size)])\n",
    "\n",
    "    def MultiTask_SelfsSupervision_AE(self, AggAttribute, SelfAttribute):\n",
    "\n",
    "        input_1 = Input(shape=(AggAttribute, ))\n",
    "        x_1 = Dense(self.embedding_size * 4)(input_1)\n",
    "        output_1 = Dense(self.embedding_size,\n",
    "                         name=\"Agg_Attribute_Encoder\")(x_1)\n",
    "\n",
    "        input_2 = Input(shape=(SelfAttribute, ))\n",
    "        x_2 = Dense(self.embedding_size * 4)(input_2)\n",
    "        output_2 = Dense(self.embedding_size,\n",
    "                         name='Self_Attribute_Encoder')(x_2)\n",
    "\n",
    "        conv = concatenate([\n",
    "            x_1,\n",
    "            x_2,\n",
    "            output_1,\n",
    "            output_2,\n",
    "        ])\n",
    "        conv = BatchNormalization()(conv)\n",
    "        conv = Dense(self.embedding_size, name='pair_embedding')(conv)\n",
    "\n",
    "        neighbor_A = Dense(AggAttribute,\n",
    "                           activation='softmax',\n",
    "                           name='Neibor_Attribute')(conv)\n",
    "        self_A = Dense(SelfAttribute,\n",
    "                       activation='softmax',\n",
    "                       name='Self_Attribute')(conv)\n",
    "\n",
    "        model = Model(inputs=[input_1, input_2], outputs=[neighbor_A, self_A])\n",
    "\n",
    "        return model\n",
    "\n",
    "    def model(self, AggAttribute, SelfAttribute, lr):\n",
    "        K.clear_session()\n",
    "        model = self.MultiTask_SelfsSupervision_AE(\n",
    "            AggAttribute.shape[1],\n",
    "            SelfAttribute.shape[1],\n",
    "        )\n",
    "\n",
    "        model.compile(optimizer=Adam(lr=lr),\n",
    "                      loss={\n",
    "                          'Neibor_Attribute': 'kullback_leibler_divergence',\n",
    "                          'Self_Attribute': 'kullback_leibler_divergence',\n",
    "                      },\n",
    "                      metrics={\n",
    "                          'Neibor_Attribute': 'kullback_leibler_divergence',\n",
    "                          'Self_Attribute': 'kullback_leibler_divergence',\n",
    "                      },\n",
    "                      loss_weights={\n",
    "                          'Neibor_Attribute': 1,\n",
    "                          'Self_Attribute': 1,\n",
    "                      })\n",
    "        tf_input = [\n",
    "            StandardScaler().fit_transform(AggAttribute),\n",
    "            StandardScaler().fit_transform(SelfAttribute),\n",
    "        ]\n",
    "        tf_output = [\n",
    "            AggAttribute,\n",
    "            SelfAttribute,\n",
    "        ]\n",
    "        callbacks = [ReduceLROnPlateau(monitor='loss', factor=0.1, patience=10, verbose=0, mode='auto', min_delta=0.0001, cooldown=0, min_lr=0)]\n",
    "        \n",
    "        if not self.silent:\n",
    "            callbacks.append(TQDMNotebookCallback(leave_inner=False,leave_outer=True))\n",
    "        model.fit(tf_input,\n",
    "                  tf_output,\n",
    "                  epochs=self.epochs,\n",
    "                  batch_size=1024,\n",
    "                  shuffle=True,\n",
    "                  verbose=0,\n",
    "                  callbacks=callbacks)\n",
    "        plot_model(model)\n",
    "        embed = Model(inputs=model.input,\n",
    "                      outputs=model.get_layer('pair_embedding').output)\n",
    "\n",
    "        embedding = embed.predict(tf_input, batch_size=2048, verbose=0)\n",
    "\n",
    "        return embedding, model\n",
    "\n",
    "    def AggGraph(self, edges, to_agg, agg_func=['mean', 'sum']):\n",
    "        edges = edges.merge(to_agg.add_prefix(\"u_\").reset_index().rename(columns={'index' : 'u'}),how='left',on='u').\\\n",
    "                      merge(to_agg.add_prefix(\"v_\").reset_index().rename(columns={'index' : 'v'}),how='left',on='v')\n",
    "        u_col, v_col = [i for i in edges.columns\n",
    "                        if 'u_' in i], [i for i in edges.columns if 'v_' in i]\n",
    "        cross = edges[['u'] + v_col].groupby(['u'])[v_col].agg(agg_func).values\n",
    "\n",
    "        attention_0, attention_1 = [], []\n",
    "        u_values, v_values = edges[u_col].values, edges[v_col].values\n",
    "        for i in range(len(edges)):\n",
    "            attention_0.append(pdist([u_values[i], v_values[i]], 'cosine')[0])\n",
    "\n",
    "        edges['cosine'] = attention_0\n",
    "        attention = edges[['u', 'cosine'\n",
    "                           ]].groupby(['u'])[['cosine']].agg(agg_func).values\n",
    "\n",
    "        df = pd.DataFrame(np.hstack((cross, attention)))\n",
    "        df.fillna(0, inplace=True)\n",
    "        df.replace([np.inf, -np.inf, np.nan], 0, inplace=True)\n",
    "\n",
    "        uv = edges[['u', 'v']]\n",
    "        uv = uv.merge(df.reset_index().rename(columns={\"index\" : \"u\"}),how='left',on='u').\\\n",
    "                merge(df.reset_index().rename(columns={\"index\" : \"v\"}),how='left',on='v')\n",
    "        uv['cosine'] = attention_0\n",
    "        uv.fillna(0, inplace=True)\n",
    "        uv.replace([np.inf, -np.inf, np.nan], 0, inplace=True)\n",
    "\n",
    "        return uv.values\n",
    "\n",
    "    def SelfGraph(self, edges, to_calc):\n",
    "        edges = edges.merge(to_calc.add_prefix(\"u_\").reset_index().rename(columns={'index' : 'u'}),how='left',on='u').\\\n",
    "                      merge(to_calc.add_prefix(\"v_\").reset_index().rename(columns={'index' : 'v'}),how='left',on='v')\n",
    "        return edges[[i for i in edges.columns if i not in ['u', 'v']]].values\n",
    "\n",
    "    def fit(self):\n",
    "\n",
    "        lr = 0.001\n",
    "\n",
    "        edges = pd.DataFrame(self.G.edges(), columns=['u', 'v'])\n",
    "        AggAttribute = self.AggGraph(edges, self.attribute, [\n",
    "            'mean',\n",
    "        ])\n",
    "        SelfAttribute = self.SelfGraph(edges, self.attribute)\n",
    "        ne, cpc = self.model(AggAttribute, SelfAttribute, lr)\n",
    "        pairs_embedding = pd.DataFrame(\n",
    "            ne, columns=[\"{}_pair\".format(i) for i in range(ne.shape[1])])\n",
    "        pairs_col = list(pairs_embedding.columns)\n",
    "        edges[pairs_col] = pairs_embedding\n",
    "        self.edges_embedding = edges[['u','v'] + pairs_col]\n",
    "        u, v = edges[['u'] + pairs_col].rename(\n",
    "            columns={'u': 'nodes'}), edges[['v'] + pairs_col].rename(\n",
    "                columns={'v': 'nodes'})\n",
    "        edges = pd.concat([u, v], axis=0, ignore_index=True)\n",
    "        edges = edges.groupby(['nodes'])[pairs_col].agg(['sum'\n",
    "                                                         ]).sort_index().values\n",
    "        edges = edges / np.linalg.norm(edges, axis=1, keepdims=True)\n",
    "        self.nodes_embedding = pd.DataFrame(\n",
    "            edges,\n",
    "            columns=[\"embedding_{}\".format(i) for i in range(edges.shape[1])])\n",
    "        return self.nodes_embedding, self.edges_embedding, cpc\n",
    "\n",
    "    def evaluate(self, clf=[LogisticRegression(n_jobs=-1)]):\n",
    "        now = self.nodes_embedding.copy()\n",
    "\n",
    "        get_cv_score(\n",
    "            now.values, self.G, self.G_label, clf, \"{} {}\".format(\n",
    "                'Pair Embedding',\n",
    "                \"Dimensions={} Node Embedding Visualization\".format(\n",
    "                    self.embedding_size)))"
   ]
  },
  {
   "cell_type": "code",
   "execution_count": 22,
   "metadata": {
    "ExecuteTime": {
     "end_time": "2020-06-10T07:52:26.448765Z",
     "start_time": "2020-06-10T07:52:26.445501Z"
    }
   },
   "outputs": [],
   "source": [
    "os.environ['CUDA_VISIBLE_DEVICES'] = \"3\"\n",
    "physical_devices = tf.config.list_physical_devices('GPU')\n",
    "tf.config.experimental.set_memory_growth(physical_devices[0], True)"
   ]
  },
  {
   "cell_type": "markdown",
   "metadata": {},
   "source": [
    "## Multi Task Self-Supervied Auto Encoder Model"
   ]
  },
  {
   "cell_type": "markdown",
   "metadata": {},
   "source": [
    "### Read Data"
   ]
  },
  {
   "cell_type": "code",
   "execution_count": 23,
   "metadata": {
    "ExecuteTime": {
     "end_time": "2020-06-10T07:52:29.402607Z",
     "start_time": "2020-06-10T07:52:29.302289Z"
    }
   },
   "outputs": [
    {
     "data": {
      "application/vnd.jupyter.widget-view+json": {
       "model_id": "ac0076495101457bb2681caf9e79245f",
       "version_major": 2,
       "version_minor": 0
      },
      "text/plain": [
       "HBox(children=(FloatProgress(value=0.0, max=2708.0), HTML(value='')))"
      ]
     },
     "metadata": {},
     "output_type": "display_data"
    },
    {
     "name": "stdout",
     "output_type": "stream",
     "text": [
      "\n",
      "cora Have 2708 Nodes, 10556 Edges, 1433 Attribute, 7 Classes\n"
     ]
    }
   ],
   "source": [
    "dataset = 'cora'\n",
    "iG,G,G_label,G_attr = read_data(dataset)\n",
    "num_classes = G_label['label'].map(lambda x:x[0]).nunique()"
   ]
  },
  {
   "cell_type": "code",
   "execution_count": 24,
   "metadata": {
    "ExecuteTime": {
     "end_time": "2020-06-10T07:54:04.879489Z",
     "start_time": "2020-06-10T07:52:30.679424Z"
    }
   },
   "outputs": [
    {
     "data": {
      "application/vnd.jupyter.widget-view+json": {
       "model_id": "ec118706ff674ba1af0e6fe0a91c4a38",
       "version_major": 2,
       "version_minor": 0
      },
      "text/plain": [
       "HBox(children=(FloatProgress(value=0.0, description='Training', max=30.0, style=ProgressStyle(description_widt…"
      ]
     },
     "metadata": {},
     "output_type": "display_data"
    },
    {
     "data": {
      "application/vnd.jupyter.widget-view+json": {
       "model_id": "",
       "version_major": 2,
       "version_minor": 0
      },
      "text/plain": [
       "HBox(children=(FloatProgress(value=0.0, description='Epoch 0', max=13264.0, style=ProgressStyle(description_wi…"
      ]
     },
     "metadata": {},
     "output_type": "display_data"
    },
    {
     "data": {
      "application/vnd.jupyter.widget-view+json": {
       "model_id": "",
       "version_major": 2,
       "version_minor": 0
      },
      "text/plain": [
       "HBox(children=(FloatProgress(value=0.0, description='Epoch 1', max=13264.0, style=ProgressStyle(description_wi…"
      ]
     },
     "metadata": {},
     "output_type": "display_data"
    },
    {
     "data": {
      "application/vnd.jupyter.widget-view+json": {
       "model_id": "",
       "version_major": 2,
       "version_minor": 0
      },
      "text/plain": [
       "HBox(children=(FloatProgress(value=0.0, description='Epoch 2', max=13264.0, style=ProgressStyle(description_wi…"
      ]
     },
     "metadata": {},
     "output_type": "display_data"
    },
    {
     "data": {
      "application/vnd.jupyter.widget-view+json": {
       "model_id": "",
       "version_major": 2,
       "version_minor": 0
      },
      "text/plain": [
       "HBox(children=(FloatProgress(value=0.0, description='Epoch 3', max=13264.0, style=ProgressStyle(description_wi…"
      ]
     },
     "metadata": {},
     "output_type": "display_data"
    },
    {
     "data": {
      "application/vnd.jupyter.widget-view+json": {
       "model_id": "",
       "version_major": 2,
       "version_minor": 0
      },
      "text/plain": [
       "HBox(children=(FloatProgress(value=0.0, description='Epoch 4', max=13264.0, style=ProgressStyle(description_wi…"
      ]
     },
     "metadata": {},
     "output_type": "display_data"
    },
    {
     "data": {
      "application/vnd.jupyter.widget-view+json": {
       "model_id": "",
       "version_major": 2,
       "version_minor": 0
      },
      "text/plain": [
       "HBox(children=(FloatProgress(value=0.0, description='Epoch 5', max=13264.0, style=ProgressStyle(description_wi…"
      ]
     },
     "metadata": {},
     "output_type": "display_data"
    },
    {
     "data": {
      "application/vnd.jupyter.widget-view+json": {
       "model_id": "",
       "version_major": 2,
       "version_minor": 0
      },
      "text/plain": [
       "HBox(children=(FloatProgress(value=0.0, description='Epoch 6', max=13264.0, style=ProgressStyle(description_wi…"
      ]
     },
     "metadata": {},
     "output_type": "display_data"
    },
    {
     "data": {
      "application/vnd.jupyter.widget-view+json": {
       "model_id": "",
       "version_major": 2,
       "version_minor": 0
      },
      "text/plain": [
       "HBox(children=(FloatProgress(value=0.0, description='Epoch 7', max=13264.0, style=ProgressStyle(description_wi…"
      ]
     },
     "metadata": {},
     "output_type": "display_data"
    },
    {
     "data": {
      "application/vnd.jupyter.widget-view+json": {
       "model_id": "",
       "version_major": 2,
       "version_minor": 0
      },
      "text/plain": [
       "HBox(children=(FloatProgress(value=0.0, description='Epoch 8', max=13264.0, style=ProgressStyle(description_wi…"
      ]
     },
     "metadata": {},
     "output_type": "display_data"
    },
    {
     "data": {
      "application/vnd.jupyter.widget-view+json": {
       "model_id": "",
       "version_major": 2,
       "version_minor": 0
      },
      "text/plain": [
       "HBox(children=(FloatProgress(value=0.0, description='Epoch 9', max=13264.0, style=ProgressStyle(description_wi…"
      ]
     },
     "metadata": {},
     "output_type": "display_data"
    },
    {
     "data": {
      "application/vnd.jupyter.widget-view+json": {
       "model_id": "",
       "version_major": 2,
       "version_minor": 0
      },
      "text/plain": [
       "HBox(children=(FloatProgress(value=0.0, description='Epoch 10', max=13264.0, style=ProgressStyle(description_w…"
      ]
     },
     "metadata": {},
     "output_type": "display_data"
    },
    {
     "data": {
      "application/vnd.jupyter.widget-view+json": {
       "model_id": "",
       "version_major": 2,
       "version_minor": 0
      },
      "text/plain": [
       "HBox(children=(FloatProgress(value=0.0, description='Epoch 11', max=13264.0, style=ProgressStyle(description_w…"
      ]
     },
     "metadata": {},
     "output_type": "display_data"
    },
    {
     "data": {
      "application/vnd.jupyter.widget-view+json": {
       "model_id": "",
       "version_major": 2,
       "version_minor": 0
      },
      "text/plain": [
       "HBox(children=(FloatProgress(value=0.0, description='Epoch 12', max=13264.0, style=ProgressStyle(description_w…"
      ]
     },
     "metadata": {},
     "output_type": "display_data"
    },
    {
     "data": {
      "application/vnd.jupyter.widget-view+json": {
       "model_id": "",
       "version_major": 2,
       "version_minor": 0
      },
      "text/plain": [
       "HBox(children=(FloatProgress(value=0.0, description='Epoch 13', max=13264.0, style=ProgressStyle(description_w…"
      ]
     },
     "metadata": {},
     "output_type": "display_data"
    },
    {
     "data": {
      "application/vnd.jupyter.widget-view+json": {
       "model_id": "",
       "version_major": 2,
       "version_minor": 0
      },
      "text/plain": [
       "HBox(children=(FloatProgress(value=0.0, description='Epoch 14', max=13264.0, style=ProgressStyle(description_w…"
      ]
     },
     "metadata": {},
     "output_type": "display_data"
    },
    {
     "data": {
      "application/vnd.jupyter.widget-view+json": {
       "model_id": "",
       "version_major": 2,
       "version_minor": 0
      },
      "text/plain": [
       "HBox(children=(FloatProgress(value=0.0, description='Epoch 15', max=13264.0, style=ProgressStyle(description_w…"
      ]
     },
     "metadata": {},
     "output_type": "display_data"
    },
    {
     "data": {
      "application/vnd.jupyter.widget-view+json": {
       "model_id": "",
       "version_major": 2,
       "version_minor": 0
      },
      "text/plain": [
       "HBox(children=(FloatProgress(value=0.0, description='Epoch 16', max=13264.0, style=ProgressStyle(description_w…"
      ]
     },
     "metadata": {},
     "output_type": "display_data"
    },
    {
     "data": {
      "application/vnd.jupyter.widget-view+json": {
       "model_id": "",
       "version_major": 2,
       "version_minor": 0
      },
      "text/plain": [
       "HBox(children=(FloatProgress(value=0.0, description='Epoch 17', max=13264.0, style=ProgressStyle(description_w…"
      ]
     },
     "metadata": {},
     "output_type": "display_data"
    },
    {
     "data": {
      "application/vnd.jupyter.widget-view+json": {
       "model_id": "",
       "version_major": 2,
       "version_minor": 0
      },
      "text/plain": [
       "HBox(children=(FloatProgress(value=0.0, description='Epoch 18', max=13264.0, style=ProgressStyle(description_w…"
      ]
     },
     "metadata": {},
     "output_type": "display_data"
    },
    {
     "data": {
      "application/vnd.jupyter.widget-view+json": {
       "model_id": "",
       "version_major": 2,
       "version_minor": 0
      },
      "text/plain": [
       "HBox(children=(FloatProgress(value=0.0, description='Epoch 19', max=13264.0, style=ProgressStyle(description_w…"
      ]
     },
     "metadata": {},
     "output_type": "display_data"
    },
    {
     "data": {
      "application/vnd.jupyter.widget-view+json": {
       "model_id": "",
       "version_major": 2,
       "version_minor": 0
      },
      "text/plain": [
       "HBox(children=(FloatProgress(value=0.0, description='Epoch 20', max=13264.0, style=ProgressStyle(description_w…"
      ]
     },
     "metadata": {},
     "output_type": "display_data"
    },
    {
     "data": {
      "application/vnd.jupyter.widget-view+json": {
       "model_id": "",
       "version_major": 2,
       "version_minor": 0
      },
      "text/plain": [
       "HBox(children=(FloatProgress(value=0.0, description='Epoch 21', max=13264.0, style=ProgressStyle(description_w…"
      ]
     },
     "metadata": {},
     "output_type": "display_data"
    },
    {
     "data": {
      "application/vnd.jupyter.widget-view+json": {
       "model_id": "",
       "version_major": 2,
       "version_minor": 0
      },
      "text/plain": [
       "HBox(children=(FloatProgress(value=0.0, description='Epoch 22', max=13264.0, style=ProgressStyle(description_w…"
      ]
     },
     "metadata": {},
     "output_type": "display_data"
    },
    {
     "data": {
      "application/vnd.jupyter.widget-view+json": {
       "model_id": "",
       "version_major": 2,
       "version_minor": 0
      },
      "text/plain": [
       "HBox(children=(FloatProgress(value=0.0, description='Epoch 23', max=13264.0, style=ProgressStyle(description_w…"
      ]
     },
     "metadata": {},
     "output_type": "display_data"
    },
    {
     "data": {
      "application/vnd.jupyter.widget-view+json": {
       "model_id": "",
       "version_major": 2,
       "version_minor": 0
      },
      "text/plain": [
       "HBox(children=(FloatProgress(value=0.0, description='Epoch 24', max=13264.0, style=ProgressStyle(description_w…"
      ]
     },
     "metadata": {},
     "output_type": "display_data"
    },
    {
     "data": {
      "application/vnd.jupyter.widget-view+json": {
       "model_id": "",
       "version_major": 2,
       "version_minor": 0
      },
      "text/plain": [
       "HBox(children=(FloatProgress(value=0.0, description='Epoch 25', max=13264.0, style=ProgressStyle(description_w…"
      ]
     },
     "metadata": {},
     "output_type": "display_data"
    },
    {
     "data": {
      "application/vnd.jupyter.widget-view+json": {
       "model_id": "",
       "version_major": 2,
       "version_minor": 0
      },
      "text/plain": [
       "HBox(children=(FloatProgress(value=0.0, description='Epoch 26', max=13264.0, style=ProgressStyle(description_w…"
      ]
     },
     "metadata": {},
     "output_type": "display_data"
    },
    {
     "data": {
      "application/vnd.jupyter.widget-view+json": {
       "model_id": "",
       "version_major": 2,
       "version_minor": 0
      },
      "text/plain": [
       "HBox(children=(FloatProgress(value=0.0, description='Epoch 27', max=13264.0, style=ProgressStyle(description_w…"
      ]
     },
     "metadata": {},
     "output_type": "display_data"
    },
    {
     "data": {
      "application/vnd.jupyter.widget-view+json": {
       "model_id": "",
       "version_major": 2,
       "version_minor": 0
      },
      "text/plain": [
       "HBox(children=(FloatProgress(value=0.0, description='Epoch 28', max=13264.0, style=ProgressStyle(description_w…"
      ]
     },
     "metadata": {},
     "output_type": "display_data"
    },
    {
     "data": {
      "application/vnd.jupyter.widget-view+json": {
       "model_id": "",
       "version_major": 2,
       "version_minor": 0
      },
      "text/plain": [
       "HBox(children=(FloatProgress(value=0.0, description='Epoch 29', max=13264.0, style=ProgressStyle(description_w…"
      ]
     },
     "metadata": {},
     "output_type": "display_data"
    },
    {
     "name": "stdout",
     "output_type": "stream",
     "text": [
      "\n"
     ]
    }
   ],
   "source": [
    "model = PairEmbedding(G,G_attr,G_label,embedding_size=128,epochs=30,silent=False)\n",
    "node_embedding, edge_embedding, MultiTask_SelfSupervision_AE = model.fit()"
   ]
  },
  {
   "cell_type": "markdown",
   "metadata": {},
   "source": [
    "### Train Model"
   ]
  },
  {
   "cell_type": "markdown",
   "metadata": {},
   "source": [
    "## Downstream tasks\n",
    "### Node classification"
   ]
  },
  {
   "cell_type": "markdown",
   "metadata": {
    "ExecuteTime": {
     "end_time": "2020-04-24T10:23:09.997474Z",
     "start_time": "2020-04-24T10:23:09.995209Z"
    }
   },
   "source": [
    "#### Unsupervised evaluation method\n",
    "Divide the training set test set according to the ratio of [0.1, 0.3, 0.5, 0.7, 0.9]<br>\n",
    "And use our pre-defined classifier to perform 10-fold cross-validation on the divided set"
   ]
  },
  {
   "cell_type": "code",
   "execution_count": 26,
   "metadata": {
    "ExecuteTime": {
     "end_time": "2020-06-10T07:55:49.336248Z",
     "start_time": "2020-06-10T07:55:47.275497Z"
    }
   },
   "outputs": [
    {
     "name": "stdout",
     "output_type": "stream",
     "text": [
      "LogisticRegression(C=1.0, class_weight=None, dual=False, fit_intercept=True,\n",
      "                   intercept_scaling=1, l1_ratio=None, max_iter=100,\n",
      "                   multi_class='auto', n_jobs=-1, penalty='l2',\n",
      "                   random_state=None, solver='lbfgs', tol=0.0001, verbose=0,\n",
      "                   warm_start=False)\n"
     ]
    },
    {
     "data": {
      "application/vnd.jupyter.widget-view+json": {
       "model_id": "0cf55111a7fe4864ba9e97fb8c733b41",
       "version_major": 2,
       "version_minor": 0
      },
      "text/plain": [
       "HBox(children=(FloatProgress(value=0.0, max=5.0), HTML(value='')))"
      ]
     },
     "metadata": {},
     "output_type": "display_data"
    },
    {
     "name": "stdout",
     "output_type": "stream",
     "text": [
      "\n"
     ]
    },
    {
     "data": {
      "text/html": [
       "<div>\n",
       "<style scoped>\n",
       "    .dataframe tbody tr th:only-of-type {\n",
       "        vertical-align: middle;\n",
       "    }\n",
       "\n",
       "    .dataframe tbody tr th {\n",
       "        vertical-align: top;\n",
       "    }\n",
       "\n",
       "    .dataframe thead th {\n",
       "        text-align: right;\n",
       "    }\n",
       "</style>\n",
       "<table border=\"1\" class=\"dataframe\">\n",
       "  <thead>\n",
       "    <tr style=\"text-align: right;\">\n",
       "      <th></th>\n",
       "      <th>ratio 0.1</th>\n",
       "      <th>ratio 0.3</th>\n",
       "      <th>ratio 0.5</th>\n",
       "      <th>ratio 0.7</th>\n",
       "      <th>ratio 0.9</th>\n",
       "    </tr>\n",
       "  </thead>\n",
       "  <tbody>\n",
       "    <tr>\n",
       "      <th>train-micro</th>\n",
       "      <td>0.8407±0.0997</td>\n",
       "      <td>0.8522±0.0832</td>\n",
       "      <td>0.8685±0.0607</td>\n",
       "      <td>0.8686±0.0492</td>\n",
       "      <td>0.8802±0.0305</td>\n",
       "    </tr>\n",
       "    <tr>\n",
       "      <th>train-macro</th>\n",
       "      <td>0.7530±0.2281</td>\n",
       "      <td>0.8212±0.0990</td>\n",
       "      <td>0.8568±0.0586</td>\n",
       "      <td>0.8531±0.0554</td>\n",
       "      <td>0.8672±0.0388</td>\n",
       "    </tr>\n",
       "  </tbody>\n",
       "</table>\n",
       "</div>"
      ],
      "text/plain": [
       "                 ratio 0.1      ratio 0.3      ratio 0.5      ratio 0.7  \\\n",
       "train-micro  0.8407±0.0997  0.8522±0.0832  0.8685±0.0607  0.8686±0.0492   \n",
       "train-macro  0.7530±0.2281  0.8212±0.0990  0.8568±0.0586  0.8531±0.0554   \n",
       "\n",
       "                 ratio 0.9  \n",
       "train-micro  0.8802±0.0305  \n",
       "train-macro  0.8672±0.0388  "
      ]
     },
     "metadata": {},
     "output_type": "display_data"
    }
   ],
   "source": [
    "model.evaluate(clf=[LogisticRegression(n_jobs=-1)])"
   ]
  },
  {
   "cell_type": "markdown",
   "metadata": {},
   "source": [
    "### Node Clustering\n",
    "Use `Normalized Mutual Info score` & `Adjusted Rand Score` <br>\n",
    "Use the permutation technique to calculate all possible mapping functions <br>\n",
    "Ex: (0,1,2,3,4,5,6) have Permutation( (0,1,2,3,4,5,6) ) possible <br>"
   ]
  },
  {
   "cell_type": "code",
   "execution_count": 28,
   "metadata": {
    "ExecuteTime": {
     "end_time": "2020-06-10T07:56:22.164326Z",
     "start_time": "2020-06-10T07:56:15.946922Z"
    },
    "scrolled": true
   },
   "outputs": [
    {
     "data": {
      "application/vnd.jupyter.widget-view+json": {
       "model_id": "a811667c791a47c6b316fb11c588f1d9",
       "version_major": 2,
       "version_minor": 0
      },
      "text/plain": [
       "HBox(children=(FloatProgress(value=0.0, max=5040.0), HTML(value='')))"
      ]
     },
     "metadata": {},
     "output_type": "display_data"
    },
    {
     "name": "stdout",
     "output_type": "stream",
     "text": [
      "\n",
      "NMI 0.5605491053232909 \n",
      "ARS 0.5005318986445647\n",
      "ACC 0.7079025110782866\n"
     ]
    }
   ],
   "source": [
    "from sklearn.cluster import KMeans,AgglomerativeClustering\n",
    "from sklearn.metrics import normalized_mutual_info_score,adjusted_rand_score\n",
    "\n",
    "label = G_label.copy()\n",
    "label['label'] = label['label'].map(lambda x:x[0])\n",
    "\n",
    "cluster_emb = node_embedding.copy()\n",
    "cluster_emb['nodes'] = range(len(cluster_emb))\n",
    "cluster_emb = cluster_emb.merge(label,how='left',on='nodes')\n",
    "cluster_label = cluster_emb[['nodes','label']]\n",
    "cluster_emb = cluster_emb.sort_values(by=['nodes']).drop(['nodes','label'],axis=1).values\n",
    "clf = KMeans(n_clusters=num_classes,n_init=20,n_jobs=-1,)\n",
    "clf.fit(cluster_emb)\n",
    "cluster_label['pred'] = clf.labels_\n",
    "\n",
    "ori_label = list(range(num_classes))\n",
    "max_score = {\n",
    "    'acc' : [],\n",
    "    'nmi' : [],\n",
    "    'ars' : [],\n",
    "}\n",
    "\n",
    "def calc_cluster(i):\n",
    "    dic = pd.DataFrame()\n",
    "    dic['pred'] = ori_label\n",
    "    dic['label'] = i\n",
    "    dic = dict(dic.values)\n",
    "    now = cluster_label['pred'].replace(dic).values\n",
    "    return accuracy_score(lb,now), normalized_mutual_info_score(lb,now), adjusted_rand_score(lb,now)\n",
    "\n",
    "p = [i for i in list(permutations(ori_label)) if i not in [ori_label]] \n",
    "lb = cluster_label['label'].values\n",
    "res = Parallel(n_jobs=10,backend='loky',batch_size=256)(delayed(calc_cluster)(x) for x in tqdm_notebook(p))\n",
    "for r in res:\n",
    "    max_score['acc'].append(r[0])\n",
    "    max_score['nmi'].append(r[1])\n",
    "    max_score['ars'].append(r[2])\n",
    "    \n",
    "print(\"NMI {} \\nARS {}\\nACC {}\".format(np.max(max_score['nmi']),\n",
    "                                       np.max(max_score['ars']),\n",
    "                                       np.max(max_score['acc'])))\n"
   ]
  },
  {
   "cell_type": "markdown",
   "metadata": {},
   "source": [
    "### Node visualization"
   ]
  },
  {
   "cell_type": "code",
   "execution_count": 18,
   "metadata": {
    "ExecuteTime": {
     "end_time": "2020-06-10T07:51:33.150465Z",
     "start_time": "2020-06-10T07:51:04.099746Z"
    }
   },
   "outputs": [
    {
     "data": {
      "image/png": "[encoded data removed]",
      "text/plain": [
       "<Figure size 576x360 with 1 Axes>"
      ]
     },
     "metadata": {
      "needs_background": "light"
     },
     "output_type": "display_data"
    }
   ],
   "source": [
    "plot_embedding(node_embedding, G_label, dataset)"
   ]
  }
 ],
 "metadata": {
  "kernelspec": {
   "display_name": "Python3.7 (All-to-One)",
   "language": "python",
   "name": "python37"
  },
  "language_info": {
   "codemirror_mode": {
    "name": "ipython",
    "version": 3
   },
   "file_extension": ".py",
   "mimetype": "text/x-python",
   "name": "python",
   "nbconvert_exporter": "python",
   "pygments_lexer": "ipython3",
   "version": "3.7.6"
  },
  "toc": {
   "base_numbering": 1,
   "nav_menu": {},
   "number_sections": true,
   "sideBar": true,
   "skip_h1_title": false,
   "title_cell": "Table of Contents",
   "title_sidebar": "Contents",
   "toc_cell": false,
   "toc_position": {},
   "toc_section_display": true,
   "toc_window_display": true
  }
 },
 "nbformat": 4,
 "nbformat_minor": 4
}
